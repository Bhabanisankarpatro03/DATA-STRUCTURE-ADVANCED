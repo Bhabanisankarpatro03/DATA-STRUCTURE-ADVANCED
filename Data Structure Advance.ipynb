{
 "cells": [
  {
   "cell_type": "markdown",
   "id": "3dcf88bb-2003-4803-85e0-a66a04b275e3",
   "metadata": {},
   "source": [
    "Q1) Write a code to reverse a string ."
   ]
  },
  {
   "cell_type": "code",
   "execution_count": 1,
   "id": "67793553-c6d9-40e8-af77-bbf8063bb7f7",
   "metadata": {},
   "outputs": [
    {
     "name": "stdout",
     "output_type": "stream",
     "text": [
      "dlrow olleh\n"
     ]
    }
   ],
   "source": [
    "def reverse_string(string):\n",
    "  return string[::-1]\n",
    "my_string = \"hello world\"\n",
    "reversed_string = reverse_string(my_string)\n",
    "print(reversed_string)  "
   ]
  },
  {
   "cell_type": "markdown",
   "id": "11adc1a9-fe3f-4af6-84e5-4a7633f21e20",
   "metadata": {},
   "source": [
    "Explanation:\n",
    "\n",
    "my_string[::-1] creates a new string by slicing the original string from the end to the beginning with a step of -1."
   ]
  },
  {
   "cell_type": "markdown",
   "id": "58338f75-d4dc-4493-a44d-d1ef4d56052e",
   "metadata": {},
   "source": [
    "Q2) Write a code to count the number of vowels in a string ."
   ]
  },
  {
   "cell_type": "code",
   "execution_count": 2,
   "id": "5abe3336-15c9-4372-b362-50249e6e0627",
   "metadata": {},
   "outputs": [
    {
     "data": {
      "text/plain": [
       "5"
      ]
     },
     "execution_count": 2,
     "metadata": {},
     "output_type": "execute_result"
    }
   ],
   "source": [
    "my_string = \"aeiou\"\n",
    "len(my_string)"
   ]
  },
  {
   "cell_type": "markdown",
   "id": "476abab3-c661-49fe-bb4e-4a5be15c1032",
   "metadata": {},
   "source": [
    "Q3) Write a code to check if a given string is a palindrome on not ."
   ]
  },
  {
   "cell_type": "code",
   "execution_count": 5,
   "id": "9f5db9f1-c4bd-4f6c-8c61-1936e1c6350f",
   "metadata": {},
   "outputs": [
    {
     "name": "stdin",
     "output_type": "stream",
     "text": [
      "enter a letter: anna\n"
     ]
    },
    {
     "name": "stdout",
     "output_type": "stream",
     "text": [
      "The letter is a palindrome\n"
     ]
    }
   ],
   "source": [
    "string = input((\"enter a letter:\"))\n",
    "if(string==string[::-1]):\n",
    "    print(\"The letter is a palindrome\")\n",
    "else:\n",
    "    print(\"The letter is not a palindrome\")"
   ]
  },
  {
   "cell_type": "markdown",
   "id": "76b1d5f1-607f-401b-ab29-cb128eec4a15",
   "metadata": {},
   "source": [
    "Q4) write a code to check if two given strings are anagrams of each other ."
   ]
  },
  {
   "cell_type": "code",
   "execution_count": 6,
   "id": "21704659-2928-4330-9979-611f6995592b",
   "metadata": {},
   "outputs": [
    {
     "name": "stdout",
     "output_type": "stream",
     "text": [
      "The strings are anagrams.\n"
     ]
    }
   ],
   "source": [
    "def check (s1 , s2):\n",
    "    if (sorted(s1) == sorted(s2)):\n",
    "        print(\"The strings are anagrams.\")\n",
    "    else:\n",
    "         print(\"The strings are not anagrams.\")\n",
    "s1 = \"listen\"\n",
    "s2 = \"silent\"\n",
    "check(s1, s2)"
   ]
  },
  {
   "cell_type": "markdown",
   "id": "7ed27870-d0e9-4d0e-9986-1edfb4d29bbf",
   "metadata": {},
   "source": [
    "Q5) Write a code to find all occurrences of a given substing within another string ."
   ]
  },
  {
   "cell_type": "code",
   "execution_count": 7,
   "id": "883a9867-9ae1-4e9a-97c2-bee4a7ee66c7",
   "metadata": {},
   "outputs": [
    {
     "name": "stdout",
     "output_type": "stream",
     "text": [
      "The common letters are:\n",
      "l\n",
      "o\n"
     ]
    }
   ],
   "source": [
    "str1 = \"hello\"\n",
    "str2 = \"world\"\n",
    "a = list(set(str1)&set(str2))\n",
    "print(\"The common letters are:\") \n",
    "for i in a:\n",
    "    print(i)"
   ]
  },
  {
   "cell_type": "markdown",
   "id": "b7d3c411-af49-44c2-8514-ef295d57540c",
   "metadata": {},
   "source": [
    "Q6) Write a code to perfrom basic string compression using the counts of repeated characters ."
   ]
  },
  {
   "cell_type": "code",
   "execution_count": 10,
   "id": "20204a4e-6521-49ee-91f7-99f2368e3707",
   "metadata": {},
   "outputs": [
    {
     "name": "stdout",
     "output_type": "stream",
     "text": [
      "{'h': 1, 'e': 1, 'l': 3, 'o': 2, ' ': 1, 'w': 1, 'r': 1, 'd': 1}\n"
     ]
    }
   ],
   "source": [
    "def count_repeated_characters(string):\n",
    "  \"\"\"Counts the occurrences of each character in a string.\n",
    "\n",
    "  Args:\n",
    "    string: The input string.\n",
    "\n",
    "  Returns:\n",
    "    A dictionary containing character counts.\n",
    "  \"\"\"\n",
    "\n",
    "  char_counts = {}\n",
    "  for char in string:\n",
    "    char_counts[char] = char_counts.get(char, 0) + 1\n",
    "  return char_counts\n",
    "\n",
    "# Example usage:\n",
    "text = \"hello world\"\n",
    "char_counts = count_repeated_characters(text)\n",
    "print(char_counts)  # Output: {'h': 1, 'e': 1, 'l': 3, 'o': 2, ' ': 1, 'w': 1, 'r': 1, 'd': 1}\n"
   ]
  },
  {
   "cell_type": "markdown",
   "id": "0d8da021-d0b2-4470-b05a-74462d613e29",
   "metadata": {},
   "source": [
    "Q7) Write a code to determine if a string has all unique characters ."
   ]
  },
  {
   "cell_type": "code",
   "execution_count": 11,
   "id": "1f71976a-df05-46e2-85a6-051873824ce3",
   "metadata": {},
   "outputs": [
    {
     "name": "stdout",
     "output_type": "stream",
     "text": [
      "['o', 'd', 'r', 'w', 'h', 'l', 'e', ' ']\n"
     ]
    }
   ],
   "source": [
    "def unique_chars_set(string):\n",
    "  return list(set(string))\n",
    "\n",
    "text = \"hello world\"\n",
    "unique_chars = unique_chars_set(text)\n",
    "print(unique_chars)  # Output: ['h', 'e', 'l', 'o', ' ', 'w', 'r', 'd']\n"
   ]
  },
  {
   "cell_type": "markdown",
   "id": "01d12bb3-42e7-43e4-bb5c-7d1b9b27b22b",
   "metadata": {},
   "source": [
    "Q8) Write a code to covert a gvien string to uppercase or lowercase ."
   ]
  },
  {
   "cell_type": "code",
   "execution_count": 12,
   "id": "5243f6e5-e53c-4e1d-9c33-79379e76f74c",
   "metadata": {},
   "outputs": [
    {
     "name": "stdout",
     "output_type": "stream",
     "text": [
      "HELLO, WORLD!\n",
      "hello, world!\n"
     ]
    }
   ],
   "source": [
    "def convert_case(string, case):\n",
    "    return string.upper() if case == \"upper\" else string.lower()\n",
    "text = \"Hello, World!\"\n",
    "upper_case_text = convert_case(text, \"upper\")\n",
    "lower_case_text = convert_case(text, \"lower\")\n",
    "print(upper_case_text) \n",
    "print(lower_case_text) "
   ]
  },
  {
   "cell_type": "markdown",
   "id": "6110c3cc-8631-4837-b5ae-d0b3be43bd4e",
   "metadata": {},
   "source": [
    "Q10) write a code to concatenate two strings without using the + operator ."
   ]
  },
  {
   "cell_type": "code",
   "execution_count": 13,
   "id": "575e4e8b-888d-41e0-8340-c73acfdc57f0",
   "metadata": {},
   "outputs": [
    {
     "name": "stdout",
     "output_type": "stream",
     "text": [
      "helloworld\n"
     ]
    }
   ],
   "source": [
    "def concatenate_strings(str1, str2):\n",
    "    return ''.join((str1, str2))\n",
    "str1 = \"hello\"\n",
    "str2 = \"world\"\n",
    "concatenated_string = concatenate_strings(str1, str2)\n",
    "print(concatenated_string)"
   ]
  },
  {
   "cell_type": "markdown",
   "id": "eb380267-ca95-46ab-8720-58c9dc3a3207",
   "metadata": {},
   "source": [
    "Q11) write a code to remove all occurrences of a specific element from a list ."
   ]
  },
  {
   "cell_type": "code",
   "execution_count": 14,
   "id": "976878bd-4ceb-4422-9672-abaef3f0caf4",
   "metadata": {},
   "outputs": [
    {
     "name": "stdout",
     "output_type": "stream",
     "text": [
      "[1, 2, 2, 4, 2]\n"
     ]
    }
   ],
   "source": [
    "def remove_all_occurrences(list_, element):\n",
    "    return [item for item in list_ if item != element]\n",
    "my_list = [1, 2, 3, 2, 4, 2]\n",
    "element_to_remove = 3\n",
    "new_list = remove_all_occurrences(my_list, element_to_remove)\n",
    "print(new_list)"
   ]
  },
  {
   "cell_type": "markdown",
   "id": "64df5bc6-e0e2-43c6-8fd0-54d75fb4a841",
   "metadata": {},
   "source": [
    "Q12) Implement a code to find the second largest number in a given list of integers ."
   ]
  },
  {
   "cell_type": "code",
   "execution_count": 15,
   "id": "ff180882-1d51-487b-bbfc-828b2e2f18f7",
   "metadata": {},
   "outputs": [
    {
     "name": "stdout",
     "output_type": "stream",
     "text": [
      "7\n"
     ]
    }
   ],
   "source": [
    "def find_second_largest(numbers):\n",
    "    return sorted(numbers)[-2]\n",
    "numbers = [3, 7, 1, 9, 4, 6]\n",
    "second_largest_number = find_second_largest(numbers)\n",
    "print(second_largest_number)"
   ]
  },
  {
   "cell_type": "markdown",
   "id": "8477ebb8-2437-414e-94b8-a5cb3f39a2e7",
   "metadata": {},
   "source": [
    "Q13) Create a code to count the occurrences of each element in a list and retrun a dictionary with elements key and their counts as values ."
   ]
  },
  {
   "cell_type": "code",
   "execution_count": 16,
   "id": "9bbfef98-1773-4172-b3fb-e44316bba422",
   "metadata": {},
   "outputs": [
    {
     "name": "stdout",
     "output_type": "stream",
     "text": [
      "Counter({2: 3, 1: 2, 3: 1, 4: 1})\n"
     ]
    }
   ],
   "source": [
    "from collections import Counter\n",
    "def count_occurrences(list_):\n",
    "    return Counter(list_)\n",
    "numbers = [1, 2, 3, 2, 4, 1, 2]\n",
    "result = count_occurrences(numbers)\n",
    "print(result)"
   ]
  },
  {
   "cell_type": "markdown",
   "id": "9db074ac-59a3-43f6-88fd-410afb5f0c6c",
   "metadata": {},
   "source": [
    "Q14) Write a code to reverse a list in-place wiyhout using any built-in reverse functions ."
   ]
  },
  {
   "cell_type": "code",
   "execution_count": 17,
   "id": "462a9471-eb9e-4dd4-a806-8cb9527e84ea",
   "metadata": {},
   "outputs": [
    {
     "name": "stdout",
     "output_type": "stream",
     "text": [
      "[5, 4, 3, 2, 1]\n"
     ]
    }
   ],
   "source": [
    "def reverse(lst):\n",
    "    new_lst = lst[::-1]\n",
    "    return new_lst\n",
    "lst = [1, 2, 3, 4, 5]\n",
    "print(reverse(lst))"
   ]
  },
  {
   "cell_type": "markdown",
   "id": "14b8a60d-51c6-428c-8804-53b002c99493",
   "metadata": {},
   "source": [
    "Q16) Create a code to check if a given list is sorted (either in ascending or descending order ) or not ."
   ]
  },
  {
   "cell_type": "code",
   "execution_count": 19,
   "id": "735c6877-be16-44f3-9ccb-3155d4cec840",
   "metadata": {},
   "outputs": [
    {
     "name": "stdout",
     "output_type": "stream",
     "text": [
      "True\n",
      "True\n",
      "False\n"
     ]
    }
   ],
   "source": [
    "def is_sorted(nums):\n",
    "    return all(nums[i] <= nums[i+1] for i in range(len(nums)-1)) or \\\n",
    "           all(nums[i] >= nums[i+1] for i in range(len(nums)-1))\n",
    "\n",
    "list1 = [1, 2, 3, 4, 5]\n",
    "list2 = [5, 4, 3, 2, 1]\n",
    "list3 = [1, 3, 2, 4]\n",
    "\n",
    "print(is_sorted(list1))  \n",
    "print(is_sorted(list2))\n",
    "print(is_sorted(list3)) "
   ]
  },
  {
   "cell_type": "markdown",
   "id": "cd89d676-66ce-4b25-b866-de0e02283411",
   "metadata": {},
   "source": [
    "Q17) Write a code to merge two sorted list into single shorted list ."
   ]
  },
  {
   "cell_type": "code",
   "execution_count": 20,
   "id": "985d2523-1ea4-4542-a064-b1f4d1c53b34",
   "metadata": {},
   "outputs": [
    {
     "name": "stdout",
     "output_type": "stream",
     "text": [
      "[1, 2, 3, 4, 5, 6]\n"
     ]
    }
   ],
   "source": [
    "def combine_lists(list1, list2):\n",
    "    return list1 + list2\n",
    "list1 = [1, 2, 3]\n",
    "list2 = [4, 5, 6]\n",
    "combined_list = combine_lists(list1, list2)\n",
    "print(combined_list)"
   ]
  },
  {
   "cell_type": "markdown",
   "id": "74a30627-185b-4738-8ef5-d360d74681f4",
   "metadata": {},
   "source": [
    "Q18) Implement a code to find the intersection of two given lists . "
   ]
  },
  {
   "cell_type": "code",
   "execution_count": 21,
   "id": "112eb8d7-4045-4943-9135-889cefe3a139",
   "metadata": {},
   "outputs": [
    {
     "name": "stdout",
     "output_type": "stream",
     "text": [
      "[3, 4, 5]\n"
     ]
    }
   ],
   "source": [
    "def intersection_set(list1, list2):\n",
    "    return list(set(list1) & set(list2))\n",
    "list1 = [1, 2, 3, 4, 5]\n",
    "list2 = [3, 4, 5, 6, 7]\n",
    "result = intersection_set(list1, list2)\n",
    "print(result)"
   ]
  },
  {
   "cell_type": "markdown",
   "id": "d0874cf5-f6e7-4ffd-9c0e-7a909f062f5e",
   "metadata": {},
   "source": [
    "Q19) Create a code to find the union of two lists without duplicates ."
   ]
  },
  {
   "cell_type": "code",
   "execution_count": 22,
   "id": "9259e14e-2e55-4537-8b25-34eea3ab3138",
   "metadata": {},
   "outputs": [
    {
     "name": "stdout",
     "output_type": "stream",
     "text": [
      "{1, 2, 3, 4, 5}\n"
     ]
    }
   ],
   "source": [
    "set1 = {1, 2, 3}\n",
    "set2 = {3, 4, 5}\n",
    "union_set = set1 | set2\n",
    "print(union_set) "
   ]
  },
  {
   "cell_type": "markdown",
   "id": "f3c4d385-83d6-4a31-862f-79cd0b60bc58",
   "metadata": {},
   "source": [
    "Q20) Write a code to shuffle a given list randomly without using any built-in shuffle functions."
   ]
  },
  {
   "cell_type": "code",
   "execution_count": 24,
   "id": "82685bba-0b62-4ac3-a397-57794c87b929",
   "metadata": {},
   "outputs": [
    {
     "name": "stdout",
     "output_type": "stream",
     "text": [
      "[3, 4, 2, 5, 1]\n"
     ]
    }
   ],
   "source": [
    "import random\n",
    "\n",
    "def shuffle_list(list_):\n",
    "  for i in range(len(list_) - 1, 0, -1):\n",
    "    j = random.randint(0, i)\n",
    "    list_[i], list_[j] = list_[j], list_[i]\n",
    "\n",
    "my_list = [1, 2, 3, 4, 5]\n",
    "shuffle_list(my_list)\n",
    "print(my_list)"
   ]
  },
  {
   "cell_type": "markdown",
   "id": "645d6f05-1c75-435e-96fd-b73775be2ed5",
   "metadata": {},
   "source": [
    "Q21. Write a code that takes two tuples as input and returns a new tuple containing elements that are common to both input tuples."
   ]
  },
  {
   "cell_type": "code",
   "execution_count": 25,
   "id": "23bcdceb-0d67-4381-8003-8e0ff9dad207",
   "metadata": {
    "jp-MarkdownHeadingCollapsed": true,
    "tags": []
   },
   "outputs": [
    {
     "name": "stdout",
     "output_type": "stream",
     "text": [
      "(3, 4)\n"
     ]
    }
   ],
   "source": [
    "def common_elements(tuple1, tuple2):\n",
    "    return tuple(set(tuple1) & set(tuple2))\n",
    "tuple1 = (1, 2, 3, 4)\n",
    "tuple2 = (3, 4, 5, 6)\n",
    "common_elements = common_elements(tuple1, tuple2)\n",
    "print(common_elements)"
   ]
  },
  {
   "cell_type": "markdown",
   "id": "24f47669-ab8f-4bb4-954d-0328b2368578",
   "metadata": {},
   "source": [
    "Q22. Create a code that prompts the user to enter two sets of integers separated by commas. Then, print the intersection of these two sets."
   ]
  },
  {
   "cell_type": "code",
   "execution_count": 26,
   "id": "286e3e5c-6539-4f20-8d3d-7847084128b6",
   "metadata": {},
   "outputs": [
    {
     "name": "stdin",
     "output_type": "stream",
     "text": [
      "Enter first set of integers separated by commas:  1,2,3,4\n",
      "Enter second set of integers separated by commas:  4,3,5,6\n"
     ]
    },
    {
     "name": "stdout",
     "output_type": "stream",
     "text": [
      "Intersection: {3, 4}\n"
     ]
    }
   ],
   "source": [
    "def intersection_of_sets():\n",
    "    set1 = set(map(int, input(\"Enter first set of integers separated by commas: \").split(\",\")))\n",
    "    set2 = set(map(int, input(\"Enter second set of integers separated by commas: \").split(\",\")))\n",
    "    intersection = set1.intersection(set2)\n",
    "    print(\"Intersection:\", intersection)\n",
    "intersection_of_sets()"
   ]
  },
  {
   "cell_type": "markdown",
   "id": "aefb43d2-7c80-4173-909b-de62df344575",
   "metadata": {},
   "source": [
    "Q23. Write a code to concatenate two tuples. The function should take two tuples as input and return a new tuple containing elements from both input tuples."
   ]
  },
  {
   "cell_type": "code",
   "execution_count": 27,
   "id": "3ae82cd6-02c4-4f1a-9998-f6b8d7e6ce36",
   "metadata": {},
   "outputs": [
    {
     "name": "stdout",
     "output_type": "stream",
     "text": [
      "(1, 2, 3, 4, 5, 6)\n"
     ]
    }
   ],
   "source": [
    "def concatenate_tuples(tuple1, tuple2):\n",
    "    return tuple1 + tuple2\n",
    "tuple1 = (1, 2, 3)\n",
    "tuple2 = (4, 5, 6)\n",
    "result = concatenate_tuples(tuple1, tuple2)\n",
    "print(result) "
   ]
  },
  {
   "cell_type": "markdown",
   "id": "d4db8d15-7b04-4084-b1a3-31cadbeb902a",
   "metadata": {},
   "source": [
    "Q24. Develop a code that prompts the user to input two sets of strings. Then, print the elements that are present in the first set but not in the second set ."
   ]
  },
  {
   "cell_type": "code",
   "execution_count": 28,
   "id": "9459e257-98c3-4bb6-be1c-5fa37805b7e3",
   "metadata": {},
   "outputs": [
    {
     "name": "stdin",
     "output_type": "stream",
     "text": [
      "Enter first set of strings separated by commas:  1,2,3,4\n",
      "Enter second set of strings separated by commas:  3,4,5,6\n"
     ]
    },
    {
     "name": "stdout",
     "output_type": "stream",
     "text": [
      "Elements in first set but not in second set: {'1', '2'}\n"
     ]
    }
   ],
   "source": [
    "def difference_of_sets():\n",
    "    set1 = set(input(\"Enter first set of strings separated by commas: \").split(\",\"))\n",
    "    set2 = set(input(\"Enter second set of strings separated by commas: \").split(\",\"))\n",
    "    difference = set1 - set2\n",
    "    print(\"Elements in first set but not in second set:\", difference)\n",
    "difference_of_sets()"
   ]
  },
  {
   "cell_type": "markdown",
   "id": "a5f4b27f-0da4-4a9b-b3fa-aef97b0489fd",
   "metadata": {},
   "source": [
    "Q25. Create a code that takes a tuple and two integers as input. The function should return a new tuple containing elements from the original tuple within the specified range of indices."
   ]
  },
  {
   "cell_type": "code",
   "execution_count": 29,
   "id": "fab3b8c3-9756-4d57-bc20-0d69a8d473ca",
   "metadata": {},
   "outputs": [
    {
     "name": "stdout",
     "output_type": "stream",
     "text": [
      "(2, 3, 4)\n"
     ]
    }
   ],
   "source": [
    "def extract_subtuple(tuple1, start, end):\n",
    "    return tuple1[start:end+1]\n",
    "tuple1 = (1, 2, 3, 4, 5)\n",
    "subtuple1 = extract_subtuple(tuple1, 1, 3)\n",
    "print(subtuple1)  "
   ]
  },
  {
   "cell_type": "markdown",
   "id": "b7878bc3-1927-43bd-8f7c-762f602c04e0",
   "metadata": {},
   "source": [
    "Q26. Write a code that prompts the user to input two sets of characters. Then, print the union of these two sets."
   ]
  },
  {
   "cell_type": "code",
   "execution_count": 30,
   "id": "be00e76b-33b8-4797-9b7f-898503712e07",
   "metadata": {},
   "outputs": [
    {
     "name": "stdin",
     "output_type": "stream",
     "text": [
      "Enter first set of characters:  1,2,3,4\n",
      "Enter second set of characters:  3,4,5,6\n"
     ]
    },
    {
     "name": "stdout",
     "output_type": "stream",
     "text": [
      "Union of sets: {'2', '4', '5', '3', '1', '6', ','}\n"
     ]
    }
   ],
   "source": [
    "def union_of_sets():\n",
    "    set1 = set(input(\"Enter first set of characters: \"))\n",
    "    set2 = set(input(\"Enter second set of characters: \"))\n",
    "    union_set = set1 | set2\n",
    "    print(\"Union of sets:\", union_set)\n",
    "union_of_sets()"
   ]
  },
  {
   "cell_type": "markdown",
   "id": "3c1b249e-c609-4465-8db0-d7556dfbc8a7",
   "metadata": {},
   "source": [
    "Q27. Develop a code that takes a tuple of integers as input. The function should return the maximum and minimum values from the tuple using tuple unpacking."
   ]
  },
  {
   "cell_type": "code",
   "execution_count": 31,
   "id": "cff28acb-1cbf-4c43-9bc2-d7996527d3ec",
   "metadata": {},
   "outputs": [
    {
     "name": "stdout",
     "output_type": "stream",
     "text": [
      "Maximum: 15\n",
      "Minimum: 2\n"
     ]
    }
   ],
   "source": [
    "def find_max_min(numbers):\n",
    "    return max(numbers), min(numbers)\n",
    "numbers = (10, 5, 8, 2, 15)\n",
    "max_num, min_num = find_max_min(numbers)\n",
    "print(\"Maximum:\", max_num)\n",
    "print(\"Minimum:\", min_num)"
   ]
  },
  {
   "cell_type": "markdown",
   "id": "cdf93a2d-96c9-481b-87fe-d45d264179a4",
   "metadata": {},
   "source": [
    "Q28. Create a code that defines two sets of integers. Then, print the union, intersection, and difference of these two sets."
   ]
  },
  {
   "cell_type": "code",
   "execution_count": 32,
   "id": "8585e0d1-3398-4282-8946-53ee7db6265d",
   "metadata": {},
   "outputs": [
    {
     "name": "stdout",
     "output_type": "stream",
     "text": [
      "Union: {1, 2, 3, 4, 5, 6}\n",
      "Intersection: {3, 4}\n",
      "Difference (set1 - set2): {1, 2}\n"
     ]
    }
   ],
   "source": [
    "def set_operations():\n",
    "    set1 = set([1, 2, 3, 4])\n",
    "    set2 = set([3, 4, 5, 6])\n",
    "    union_set = set1 | set2\n",
    "    intersection_set = set1 & set2\n",
    "    difference_set = set1 - set2\n",
    "    print(\"Union:\", union_set)\n",
    "    print(\"Intersection:\", intersection_set)\n",
    "    print(\"Difference (set1 - set2):\", difference_set)\n",
    "set_operations()"
   ]
  },
  {
   "cell_type": "markdown",
   "id": "181d40e7-bc88-4eb6-9122-00b3cf47fdb3",
   "metadata": {},
   "source": [
    "Q29. Write a code that takes a tuple and an element as input. The function should return the count of occurrences of the given element in the tuple ."
   ]
  },
  {
   "cell_type": "code",
   "execution_count": 33,
   "id": "8c8e2f84-6c86-4589-9976-a01291925ca5",
   "metadata": {},
   "outputs": [
    {
     "name": "stdout",
     "output_type": "stream",
     "text": [
      "3\n"
     ]
    }
   ],
   "source": [
    "def count_occurrences(tuple1, element):\n",
    "    count = tuple1.count(element)\n",
    "    return count\n",
    "tuple1 = (1, 2, 3, 2, 4, 2)\n",
    "element1 = 2\n",
    "count1 = count_occurrences(tuple1, element1)\n",
    "print(count1)"
   ]
  },
  {
   "cell_type": "markdown",
   "id": "dc02053f-adfe-482d-9ee3-65fad94fbfba",
   "metadata": {},
   "source": [
    "Q30. Develop a code that prompts the user to input two sets of strings. Then, print the symmetric difference of these two sets ."
   ]
  },
  {
   "cell_type": "code",
   "execution_count": 35,
   "id": "1899683c-b099-4e44-8ee8-3d0683642e05",
   "metadata": {},
   "outputs": [
    {
     "name": "stdin",
     "output_type": "stream",
     "text": [
      "Enter first set of strings separated by commas:  1,2,3,4\n",
      "Enter second set of strings separated by commas:  3,4,5,6\n"
     ]
    },
    {
     "name": "stdout",
     "output_type": "stream",
     "text": [
      "Symmetric difference: {'2', '1', '6', '5'}\n"
     ]
    }
   ],
   "source": [
    "def symmetric_difference():\n",
    "    set1 = set(input(\"Enter first set of strings separated by commas: \").split(\",\"))\n",
    "    set2 = set(input(\"Enter second set of strings separated by commas: \").split(\",\"))\n",
    "    symmetric_diff = set1 ^ set2\n",
    "    print(\"Symmetric difference:\", symmetric_diff)\n",
    "symmetric_difference()"
   ]
  },
  {
   "cell_type": "markdown",
   "id": "81c40fad-8196-40c2-b06d-1744a99f02c7",
   "metadata": {},
   "source": [
    "31. Write a code that takes a list of words as input and returns a dictionary where the keys are unique words and the values are the frequencies of those words in the input list."
   ]
  },
  {
   "cell_type": "code",
   "execution_count": 38,
   "id": "882d4e0c-328b-4c5e-8828-442dc5842d88",
   "metadata": {},
   "outputs": [
    {
     "name": "stdout",
     "output_type": "stream",
     "text": [
      "{'Green': 2, 'Blue': 1, 'Red': 4}\n"
     ]
    }
   ],
   "source": [
    "def word_count(words):\n",
    "    word_set = set(words)\n",
    "    word_counts = {}\n",
    "    for word in word_set:\n",
    "        word_counts[word] = words.count(word)\n",
    "    return word_counts\n",
    "words = ['Red', 'Green', 'Red', 'Blue', 'Red', 'Red', 'Green']\n",
    "print(word_count(words)) "
   ]
  },
  {
   "cell_type": "markdown",
   "id": "751201b8-7f57-4bc5-91c5-6a3952da6259",
   "metadata": {},
   "source": [
    "Q32. Write a code that takes two dictionaries as input and merges them into a single dictionary. If there are common keys, the values should be added together ."
   ]
  },
  {
   "cell_type": "code",
   "execution_count": 40,
   "id": "1fe5b345-c0ba-4614-bdd0-93fa3b7d89c8",
   "metadata": {},
   "outputs": [
    {
     "name": "stdout",
     "output_type": "stream",
     "text": [
      "{'a': 4, 'c': 6}\n"
     ]
    }
   ],
   "source": [
    "dict1 = {'a': 3, 'c': 2}\n",
    "dict2 = {'a': 1, 'c': 4}\n",
    "for key in dict2:\n",
    "    if key in dict1:\n",
    "        dict2[key] = dict2[key] + dict1[key]\n",
    "    else:\n",
    "        pass      \n",
    "print(dict2)"
   ]
  },
  {
   "cell_type": "markdown",
   "id": "a9c32968-6672-4cae-b29e-2d51e0cc774e",
   "metadata": {},
   "source": [
    "Q33. Write a code to access a value in a nested dictionary. The function should take the dictionary and a list of keys as input , and return the corresponding value. If any of the keys do not exist in the dictionary, the function should return none ."
   ]
  },
  {
   "cell_type": "code",
   "execution_count": 54,
   "id": "ad1677e4-55e9-4c9b-bded-57d3eca6179c",
   "metadata": {},
   "outputs": [
    {
     "name": "stdout",
     "output_type": "stream",
     "text": [
      "10\n"
     ]
    }
   ],
   "source": [
    "def access_nested_value(dictionary, keys):\n",
    "  try:\n",
    "    for key in keys:\n",
    "      dictionary = dictionary[key]\n",
    "    return dictionary\n",
    "  except (KeyError, TypeError):\n",
    "    return None\n",
    "nested_dict = {'a': {'b': {'c': 10}}}\n",
    "keys1 = ['a', 'b', 'c']\n",
    "result1 = access_nested_value(nested_dict, keys1)\n",
    "print(result1)"
   ]
  },
  {
   "cell_type": "markdown",
   "id": "d0ab5ba4-7475-4070-8c41-e4b55e5124be",
   "metadata": {},
   "source": [
    "Q34. Write a code that takes a dictionary as input and returns a sorted version of it based on the values. You can choose whether to sort in ascending or descending order."
   ]
  },
  {
   "cell_type": "code",
   "execution_count": 51,
   "id": "d2b2bcc1-6ebb-45c0-b99a-3735caa0e528",
   "metadata": {},
   "outputs": [
    {
     "name": "stdout",
     "output_type": "stream",
     "text": [
      "{'b': 1, 'c': 2, 'a': 3}\n",
      "{'a': 3, 'c': 2, 'b': 1}\n"
     ]
    }
   ],
   "source": [
    "def sort_dictionary_by_value(dictionary, ascending=True):\n",
    "    sorted_items = sorted(dictionary.items(), key=lambda item: item[1], reverse=not ascending)\n",
    "    return dict(sorted_items)\n",
    "\n",
    "my_dict = {'a': 3, 'b': 1, 'c': 2}\n",
    "sorted_dict_asc = sort_dictionary_by_value(my_dict)\n",
    "sorted_dict_desc = sort_dictionary_by_value(my_dict, False)\n",
    "print(sorted_dict_asc)  \n",
    "print(sorted_dict_desc) "
   ]
  },
  {
   "cell_type": "markdown",
   "id": "d4140b8c-e1d7-436b-a841-6a0c2c16af21",
   "metadata": {},
   "source": [
    "Q35. Write a code that inverts a dictionary, swapping keys and values. Ensure that the inverted dictionary correctly handles cases where multiple keys have the same value by storing the keys as a list in the inverted dictionary."
   ]
  },
  {
   "cell_type": "code",
   "execution_count": 55,
   "id": "9329ff8d-9e79-42bb-a533-5f338c05eed2",
   "metadata": {},
   "outputs": [
    {
     "name": "stdout",
     "output_type": "stream",
     "text": [
      "{1: ['a', 'c'], 2: ['b']}\n"
     ]
    }
   ],
   "source": [
    "def invert_dictionary(dictionary):\n",
    "  inverted_dict = {}\n",
    "  for key, value in dictionary.items():\n",
    "    inverted_dict.setdefault(value, []).append(key)\n",
    "  return inverted_dict\n",
    "my_dict = {'a': 1, 'b': 2, 'c': 1}\n",
    "inverted_dict = invert_dictionary(my_dict)\n",
    "print(inverted_dict)  "
   ]
  }
 ],
 "metadata": {
  "kernelspec": {
   "display_name": "Python 3 (ipykernel)",
   "language": "python",
   "name": "python3"
  },
  "language_info": {
   "codemirror_mode": {
    "name": "ipython",
    "version": 3
   },
   "file_extension": ".py",
   "mimetype": "text/x-python",
   "name": "python",
   "nbconvert_exporter": "python",
   "pygments_lexer": "ipython3",
   "version": "3.10.8"
  }
 },
 "nbformat": 4,
 "nbformat_minor": 5
}
